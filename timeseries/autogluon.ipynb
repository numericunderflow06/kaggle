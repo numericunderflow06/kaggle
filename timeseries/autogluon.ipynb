{
 "cells": [
  {
   "cell_type": "code",
   "execution_count": null,
   "metadata": {
    "vscode": {
     "languageId": "plaintext"
    }
   },
   "outputs": [],
   "source": [
    "pip install -U pip\n",
    "pip install -U setuptools wheel\n",
    "pip install autogluon --extra-index-url https://download.pytorch.org/whl/cpu"
   ]
  }
 ],
 "metadata": {
  "language_info": {
   "name": "python"
  }
 },
 "nbformat": 4,
 "nbformat_minor": 2
}
